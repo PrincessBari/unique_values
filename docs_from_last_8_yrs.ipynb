{
 "cells": [
  {
   "cell_type": "code",
   "execution_count": null,
   "metadata": {},
   "outputs": [],
   "source": [
    "import pandas as pd\n",
    "\n",
    "df = pd.read_csv(r\"<filepath>\")"
   ]
  },
  {
   "cell_type": "code",
   "execution_count": null,
   "metadata": {},
   "outputs": [],
   "source": [
    "# Get the shape of the df\n",
    "num_rows = df.shape[0]\n",
    "\n",
    "# Print the number of rows\n",
    "print(\"Number of rows:\", num_rows)\n",
    "\n",
    "# Get the column names and data types\n",
    "column_info = df.dtypes\n",
    "\n",
    "# Print the column names, data types, and number of NAs\n",
    "print(\"Column names, data types, and number of NAs:\")\n",
    "for column_name, dtype in column_info.items():\n",
    "    num_nas = df[column_name].isna().sum()  # Count the number of NAs in each column\n",
    "    print(f\"{column_name}: {dtype}, NAs: {num_nas}\")"
   ]
  },
  {
   "cell_type": "code",
   "execution_count": null,
   "metadata": {},
   "outputs": [],
   "source": [
    "# duplicating dataframe with just the first 8 columns\n",
    "df_2 = df.iloc[:, :8].copy()"
   ]
  },
  {
   "cell_type": "code",
   "execution_count": null,
   "metadata": {},
   "outputs": [],
   "source": [
    "print(df_2.head(10))"
   ]
  },
  {
   "cell_type": "code",
   "execution_count": null,
   "metadata": {},
   "outputs": [],
   "source": [
    "row_count = df_2.shape[0]\n",
    "print(f\"Number of rows in DataFrame df_2: {row_count}\")"
   ]
  },
  {
   "cell_type": "code",
   "execution_count": null,
   "metadata": {},
   "outputs": [],
   "source": [
    "df_3 = df_2"
   ]
  },
  {
   "cell_type": "code",
   "execution_count": null,
   "metadata": {},
   "outputs": [],
   "source": [
    "# extracting the first sequence of digits in column \"doc_name\"\n",
    "df_3['first_number'] = df_3['doc_name'].str.extract(r'(\\d+)')\n",
    "\n",
    "print(df_3)"
   ]
  },
  {
   "cell_type": "code",
   "execution_count": null,
   "metadata": {},
   "outputs": [],
   "source": [
    "# seeing the total of unique values that exist and what they are\n",
    "unique_count = df_3[\"first_number\"].nunique()\n",
    "print(f\"Number of unique values in 'first_number': {unique_count}\")\n",
    "\n",
    "unique_values = df_3[\"first_number\"].unique()\n",
    "print(unique_values)"
   ]
  },
  {
   "cell_type": "code",
   "execution_count": null,
   "metadata": {},
   "outputs": [],
   "source": [
    "# I want to create a new dataframe df_4, which includes the column \"first_number\" from df_3\n",
    "# And then in a new column \"count\" I want to put the total number of rows that that \n",
    "# unique number comes from in dataframe df_3. I also want a new column \"rows\" with a\n",
    "# list of the row numbers from dataframe df_3 that the unique number in \"first_number\" exists in. \n",
    "# I also want to print one corresponding row from the column \"id\" and \"doc_name\" from dataframe df_3\n",
    "\n",
    "# Group by 'first_number'\n",
    "grouped = df_3.groupby(\"first_number\", sort=False)\n",
    "\n",
    "# Create df_4\n",
    "df_4 = pd.DataFrame({\n",
    "    \"first_number\": grouped.groups.keys(),\n",
    "    \"count\": grouped.size().values,\n",
    "    \"rows\": grouped.groups.values(),\n",
    "    \"id\": grouped[\"id\"].first().values,         \n",
    "    \"doc_name\": grouped[\"doc_name\"].first().values\n",
    "})\n",
    "\n",
    "# Optional: reset index for clean display\n",
    "df_4 = df_4.reset_index(drop=True)\n",
    "\n",
    "print(df_4)"
   ]
  },
  {
   "cell_type": "code",
   "execution_count": null,
   "metadata": {},
   "outputs": [],
   "source": [
    "df_4.to_csv(\"unique_pws_and_which_rows.csv\", index=False)"
   ]
  },
  {
   "cell_type": "code",
   "execution_count": null,
   "metadata": {},
   "outputs": [],
   "source": [
    "# I want to check the math to make sure that it adds up to 17,523 rows \n",
    "# altogether, which is the total number of rows from original dataframe df\n",
    "\n",
    "# First, I'll find the total amount of rows with no digits at all in column \"doc_name\"\n",
    "\n",
    "# Filter rows in column \"doc_name\" that contain no digits\n",
    "mask_no_numbers = ~df['doc_name'].str.contains(r'\\d', na=False)\n",
    "\n",
    "# Count of such rows\n",
    "count_no_numbers = mask_no_numbers.sum()\n",
    "\n",
    "# Rows that have no numbers\n",
    "rows_no_numbers = df[mask_no_numbers]\n",
    "\n",
    "# Output\n",
    "print(f\"Total rows with no numbers: {count_no_numbers}\")\n",
    "print(\"Rows with no numbers:\")\n",
    "print(rows_no_numbers)"
   ]
  },
  {
   "cell_type": "code",
   "execution_count": null,
   "metadata": {},
   "outputs": [],
   "source": [
    "# Above it told me:\n",
    "# Total rows from \"doc_name\" column in original file with no numbers: 90\n",
    "\n",
    "# I want to see the total from the df_4 \"count\" column, which prints\n",
    "# out on how many rows each unique value appears in the \"doc_name\" column\n",
    "# in the original dataframe df\n",
    "\n",
    "total = df_4['count'].sum()\n",
    "print(f\"Total sum of column count: {total}\")"
   ]
  },
  {
   "cell_type": "code",
   "execution_count": null,
   "metadata": {},
   "outputs": [],
   "source": [
    "print(17433 + 90)\n",
    "\n",
    "# The total sum from the df_4 \"count\" column is 17433 + 90 rows from original dataframe df's\n",
    "# \"doc_name\" column that contain no numbers at all, which equals 17523 altogether, which is,\n",
    "# in fact, the total number of rows in original dataframe df. So all the rows are accounted for"
   ]
  }
 ],
 "metadata": {
  "language_info": {
   "name": "python"
  }
 },
 "nbformat": 4,
 "nbformat_minor": 2
}
